{
 "metadata": {
  "language_info": {
   "codemirror_mode": {
    "name": "ipython",
    "version": 3
   },
   "file_extension": ".py",
   "mimetype": "text/x-python",
   "name": "python",
   "nbconvert_exporter": "python",
   "pygments_lexer": "ipython3",
   "version": "3.8.10"
  },
  "orig_nbformat": 4,
  "kernelspec": {
   "name": "python3",
   "display_name": "Python 3.8.10 64-bit ('aim_cds': conda)"
  },
  "interpreter": {
   "hash": "e5842adab60b9ae7d9b793072e1b883a8275c6ccbf7b5c217e60e9770bd121d3"
  }
 },
 "nbformat": 4,
 "nbformat_minor": 2,
 "cells": [
  {
   "cell_type": "code",
   "execution_count": 1,
   "source": [
    "from utils import sitk_utils, normalization\n",
    "import SimpleITK as sitk\n",
    "import torch\n",
    "import numpy as np\n",
    "import matplotlib.pyplot as plt\n",
    "import monai"
   ],
   "outputs": [],
   "metadata": {}
  },
  {
   "cell_type": "code",
   "execution_count": 2,
   "source": [
    "def get_bounding_box_of_mask(mask):\n",
    "    \"\"\"Calculates the bounding box over a mask and returns the start and end index of it.\"\"\"\n",
    "    lsif = sitk.LabelShapeStatisticsImageFilter()\n",
    "    lsif.Execute(mask)\n",
    "    bounding_box = lsif.GetBoundingBox(1)\n",
    "    # First three values are the starting index, the other three are the size of the box\n",
    "    start = bounding_box[:3]\n",
    "    # Obtain the end index by summing up the start index and the size of the bounding box for each coordinate\n",
    "    end = bounding_box[3:]\n",
    "    end = [sum(pair) for pair in zip(start, end)]\n",
    "    return start, end"
   ],
   "outputs": [],
   "metadata": {}
  },
  {
   "cell_type": "code",
   "execution_count": 3,
   "source": [
    "hounsfield_units_range=[-600, 1500]"
   ],
   "outputs": [],
   "metadata": {}
  },
  {
   "cell_type": "code",
   "execution_count": 4,
   "source": [
    "scan_path = \"/mnt/data1/NLST/nrrd/T0/100004_img.nrrd\"\n",
    "mask_path = \"/mnt/ibrahim/NLST/nrrd/lung_masks/T0/100004_img.nrrd\"\n",
    "scan = sitk_utils.load(scan_path)\n",
    "mask = sitk_utils.load(mask_path)\n",
    "\n",
    "# Originally, mask has a label for each lung, here we combine them into a single label\n",
    "mask = sitk.Clamp(mask, upperBound=1)\n",
    "# Erosion of the mask helps with getting rid of the \n",
    "mask = sitk.BinaryErode(mask)\n",
    "# Mask out everything except lungs\n",
    "scan = sitk_utils.apply_mask(scan, mask, masking_value=0, negated_mask=False, outside_value=hounsfield_units_range[0])\n",
    "\n",
    "start, end = get_bounding_box_of_mask(mask)\n",
    "scan = sitk_utils.slice_image(scan, start=start, end=end)\n",
    "\n",
    "tensor = sitk_utils.get_tensor(scan)\n",
    "tensor = torch.clamp(tensor, hounsfield_units_range[0], hounsfield_units_range[1])\n",
    "tensor = normalization.min_max_normalize(tensor, hounsfield_units_range[0], hounsfield_units_range[1])\n",
    "tensor = tensor.unsqueeze(0)\n",
    "plt.imshow(tensor[0][50], cmap='gray')\n",
    "print(tensor.shape)"
   ],
   "outputs": [
    {
     "output_type": "stream",
     "name": "stdout",
     "text": [
      "torch.Size([1, 96, 313, 460])\n"
     ]
    },
    {
     "output_type": "display_data",
     "data": {
      "text/plain": [
       "<Figure size 432x288 with 1 Axes>"
      ],
      "image/png": "[encoded data removed]"
     },
     "metadata": {
      "needs_background": "light"
     }
    }
   ],
   "metadata": {}
  },
  {
   "cell_type": "code",
   "execution_count": 5,
   "source": [
    "tensor.min()"
   ],
   "outputs": [
    {
     "output_type": "execute_result",
     "data": {
      "text/plain": [
       "tensor(-1.)"
      ]
     },
     "metadata": {},
     "execution_count": 5
    }
   ],
   "metadata": {}
  },
  {
   "cell_type": "code",
   "execution_count": 6,
   "source": [
    "patch = monai.transforms.RandSpatialCrop((48,256,256), random_size=False)(tensor)\n",
    "print(patch.shape)\n",
    "plt.imshow(patch[0][24], cmap='gray')"
   ],
   "outputs": [
    {
     "output_type": "stream",
     "name": "stdout",
     "text": [
      "torch.Size([1, 48, 256, 256])\n"
     ]
    },
    {
     "output_type": "execute_result",
     "data": {
      "text/plain": [
       "<matplotlib.image.AxesImage at 0x7f1935c7bfd0>"
      ]
     },
     "metadata": {},
     "execution_count": 6
    },
    {
     "output_type": "display_data",
     "data": {
      "text/plain": [
       "<Figure size 432x288 with 1 Axes>"
      ],
      "image/png": "[encoded data removed]"
     },
     "metadata": {
      "needs_background": "light"
     }
    }
   ],
   "metadata": {}
  },
  {
   "cell_type": "code",
   "execution_count": 7,
   "source": [
    "tensor.shape"
   ],
   "outputs": [
    {
     "output_type": "execute_result",
     "data": {
      "text/plain": [
       "torch.Size([1, 96, 313, 460])"
      ]
     },
     "metadata": {},
     "execution_count": 7
    }
   ],
   "metadata": {}
  },
  {
   "cell_type": "code",
   "execution_count": null,
   "source": [],
   "outputs": [],
   "metadata": {}
  },
  {
   "cell_type": "code",
   "execution_count": 13,
   "source": [],
   "outputs": [
    {
     "output_type": "stream",
     "name": "stdout",
     "text": [
      "Skipping loading pretrained weights for non-default efficientnet-b0, pretrained=False, is_default_model=False\n"
     ]
    }
   ],
   "metadata": {}
  },
  {
   "cell_type": "code",
   "execution_count": 15,
   "source": [],
   "outputs": [],
   "metadata": {}
  },
  {
   "cell_type": "code",
   "execution_count": 1,
   "source": [
    "import pandas as pd\n",
    "df = pd.read_csv(\"/mnt/data1/NLST/NLST_clinical_whole.csv\")"
   ],
   "outputs": [
    {
     "output_type": "stream",
     "name": "stderr",
     "text": [
      "/home/ibrahim/anaconda3/envs/aim_cds/lib/python3.8/site-packages/IPython/core/interactiveshell.py:3441: DtypeWarning: Columns (47,264,284,285,286,287,288,853,854,961,978,985) have mixed types.Specify dtype option on import or set low_memory=False.\n",
      "  exec(code_obj, self.user_global_ns, self.user_ns)\n"
     ]
    }
   ],
   "metadata": {}
  },
  {
   "cell_type": "code",
   "execution_count": 2,
   "source": [
    "df.packyear"
   ],
   "outputs": [
    {
     "output_type": "execute_result",
     "data": {
      "text/plain": [
       "0         42.5\n",
       "1         47.0\n",
       "2         40.0\n",
       "3         34.0\n",
       "4         50.0\n",
       "         ...  \n",
       "26717     46.0\n",
       "26718    150.0\n",
       "26719     92.0\n",
       "26720     54.0\n",
       "26721     73.5\n",
       "Name: packyear, Length: 26722, dtype: float64"
      ]
     },
     "metadata": {},
     "execution_count": 2
    }
   ],
   "metadata": {}
  }
 ]
}